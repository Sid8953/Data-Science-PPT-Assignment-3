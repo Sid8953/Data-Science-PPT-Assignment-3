{
 "cells": [
  {
   "cell_type": "markdown",
   "id": "54658364-e063-47f2-8e8b-1320a2a2f7fe",
   "metadata": {},
   "source": [
    "# Ans 1 "
   ]
  },
  {
   "cell_type": "code",
   "execution_count": 1,
   "id": "0965dd15-3738-4f41-bf48-6b08ad209a3c",
   "metadata": {},
   "outputs": [
    {
     "name": "stdout",
     "output_type": "stream",
     "text": [
      "Mean sales for Region A: 11.8\n",
      "Mean sales for Region B: 20.2\n"
     ]
    }
   ],
   "source": [
    "region_a_sales = [10, 15, 12, 8, 14]\n",
    "region_b_sales = [18, 20, 16, 22, 25]\n",
    "\n",
    "\n",
    "region_a_mean = sum(region_a_sales) / len(region_a_sales)\n",
    "\n",
    "\n",
    "region_b_mean = sum(region_b_sales) / len(region_b_sales)\n",
    "\n",
    "\n",
    "print(\"Mean sales for Region A:\", region_a_mean)\n",
    "print(\"Mean sales for Region B:\", region_b_mean)"
   ]
  },
  {
   "cell_type": "markdown",
   "id": "0125b395-e42f-4b3f-861a-0f0b8b668d09",
   "metadata": {},
   "source": [
    "# Ans 2"
   ]
  },
  {
   "cell_type": "code",
   "execution_count": 2,
   "id": "31e73a16-c05d-4de5-98a9-e92c9b9328e2",
   "metadata": {},
   "outputs": [
    {
     "name": "stdout",
     "output_type": "stream",
     "text": [
      "Mode of the survey responses: 4\n"
     ]
    }
   ],
   "source": [
    "import statistics\n",
    "\n",
    "survey_responses = [4, 5, 2, 3, 5, 4, 3, 2, 4, 5]\n",
    "\n",
    "mode = statistics.mode(survey_responses)\n",
    "\n",
    "print(\"Mode of the survey responses:\", mode)"
   ]
  },
  {
   "cell_type": "markdown",
   "id": "bdcabb2f-b8be-40e8-8c48-ed5f8c056240",
   "metadata": {},
   "source": [
    "# Ans 3"
   ]
  },
  {
   "cell_type": "code",
   "execution_count": 3,
   "id": "c36e2d66-9068-45d1-af7f-d3c2e3bf1e00",
   "metadata": {},
   "outputs": [
    {
     "name": "stdout",
     "output_type": "stream",
     "text": [
      "Median salary for Department A: 5750.0\n",
      "Median salary for Department B: 5500\n"
     ]
    }
   ],
   "source": [
    "import statistics\n",
    "\n",
    "department_a_salaries = [5000, 6000, 5500, 7000]\n",
    "department_b_salaries = [4500, 5500, 5800, 6000, 5200]\n",
    "\n",
    "median_a = statistics.median(department_a_salaries)\n",
    "median_b = statistics.median(department_b_salaries)\n",
    "\n",
    "print(\"Median salary for Department A:\", median_a)\n",
    "print(\"Median salary for Department B:\", median_b)"
   ]
  },
  {
   "cell_type": "markdown",
   "id": "2629a3eb-3898-4ee1-b533-a147486446b2",
   "metadata": {},
   "source": [
    "# Ans 4"
   ]
  },
  {
   "cell_type": "code",
   "execution_count": 4,
   "id": "d7907dc2-c1e8-4c51-8df9-93e4c2455a61",
   "metadata": {},
   "outputs": [
    {
     "name": "stdout",
     "output_type": "stream",
     "text": [
      "Range of stock prices: 1.3000000000000007\n"
     ]
    }
   ],
   "source": [
    "stock_prices = [25.5, 24.8, 26.1, 25.3, 24.9]\n",
    "\n",
    "price_range = max(stock_prices) - min(stock_prices)\n",
    "\n",
    "print(\"Range of stock prices:\", price_range)"
   ]
  },
  {
   "cell_type": "markdown",
   "id": "bdbb375c-70e3-4c9b-b088-d0765e5425f1",
   "metadata": {},
   "source": [
    "# Ans 5"
   ]
  },
  {
   "cell_type": "code",
   "execution_count": 5,
   "id": "6c68ec73-02f5-4ffe-a9c9-470c2372a136",
   "metadata": {},
   "outputs": [
    {
     "name": "stdout",
     "output_type": "stream",
     "text": [
      "T-statistic: 1.4312528946642733\n",
      "P-value: 0.19023970239078333\n",
      "There is no significant difference in the mean scores between the two groups.\n"
     ]
    }
   ],
   "source": [
    "from scipy import stats\n",
    "\n",
    "group_a_scores = [85, 90, 92, 88, 91]\n",
    "group_b_scores = [82, 88, 90, 86, 87]\n",
    "\n",
    "t_statistic, p_value = stats.ttest_ind(group_a_scores, group_b_scores)\n",
    "\n",
    "alpha = 0.05  \n",
    "\n",
    "print(\"T-statistic:\", t_statistic)\n",
    "print(\"P-value:\", p_value)\n",
    "\n",
    "if p_value < alpha:\n",
    "    print(\"There is a significant difference in the mean scores between the two groups.\")\n",
    "else:\n",
    "    print(\"There is no significant difference in the mean scores between the two groups.\")"
   ]
  },
  {
   "cell_type": "markdown",
   "id": "dbe1497c-e620-47ee-9c31-6b1d564f386c",
   "metadata": {},
   "source": [
    "# Ans 6"
   ]
  },
  {
   "cell_type": "code",
   "execution_count": 6,
   "id": "ee868bdd-63e5-4eba-a436-76a92416e02c",
   "metadata": {},
   "outputs": [
    {
     "name": "stdout",
     "output_type": "stream",
     "text": [
      "Correlation coefficient: 0.8757511375750132\n"
     ]
    }
   ],
   "source": [
    "import numpy as np\n",
    "\n",
    "advertising_expenditure = [10, 15, 12, 8, 14]\n",
    "sales = [25, 30, 28, 20, 26]\n",
    "\n",
    "correlation_coefficient = np.corrcoef(advertising_expenditure, sales)[0, 1]\n",
    "\n",
    "print(\"Correlation coefficient:\", correlation_coefficient)"
   ]
  },
  {
   "cell_type": "markdown",
   "id": "769ce791-29d5-41f2-8f67-0c99ccff64b2",
   "metadata": {},
   "source": [
    "# Ans 7"
   ]
  },
  {
   "cell_type": "code",
   "execution_count": 7,
   "id": "549a7e10-6784-44d4-8dfe-3ac002d20eed",
   "metadata": {},
   "outputs": [
    {
     "name": "stdout",
     "output_type": "stream",
     "text": [
      "Standard deviation of heights: 8.591246929842246\n"
     ]
    }
   ],
   "source": [
    "import statistics\n",
    "\n",
    "heights = [160, 170, 165, 155, 175, 180, 170]\n",
    "\n",
    "standard_deviation = statistics.stdev(heights)\n",
    "\n",
    "print(\"Standard deviation of heights:\", standard_deviation)"
   ]
  },
  {
   "cell_type": "markdown",
   "id": "8cecc20b-3c57-4d22-8819-c9de678f44d6",
   "metadata": {},
   "source": [
    "# Ans 8"
   ]
  },
  {
   "cell_type": "code",
   "execution_count": 9,
   "id": "c771bf64-23d0-4cf0-9ea6-018652dbfa7c",
   "metadata": {},
   "outputs": [
    {
     "name": "stdout",
     "output_type": "stream",
     "text": [
      "Intercept: 8.595744680851062\n",
      "Slope: -0.46808510638297934\n"
     ]
    }
   ],
   "source": [
    "import statsmodels.api as sm\n",
    "import numpy as np\n",
    "\n",
    "employee_tenure = [2, 3, 5, 4, 6, 2, 4]\n",
    "job_satisfaction = [7, 8, 6, 9, 5, 7, 6]\n",
    "\n",
    "\n",
    "X = sm.add_constant(employee_tenure)\n",
    "\n",
    "\n",
    "model = sm.OLS(job_satisfaction, X)\n",
    "results = model.fit()\n",
    "\n",
    "\n",
    "intercept = results.params[0]\n",
    "slope = results.params[1]\n",
    "\n",
    "print(\"Intercept:\", intercept)\n",
    "print(\"Slope:\", slope)"
   ]
  },
  {
   "cell_type": "markdown",
   "id": "876b8f66-6f7a-4539-a3da-48b0cabcbef6",
   "metadata": {},
   "source": [
    "# Ans 9"
   ]
  },
  {
   "cell_type": "code",
   "execution_count": 10,
   "id": "37238868-9a2b-4060-9888-5f9a3030fd3c",
   "metadata": {},
   "outputs": [
    {
     "name": "stdout",
     "output_type": "stream",
     "text": [
      "F-statistic: 16.0\n",
      "P-value: 0.003949772803445326\n",
      "There is a significant difference in the mean recovery times between the two medications.\n"
     ]
    }
   ],
   "source": [
    "from scipy import stats\n",
    "\n",
    "medication_a_recovery_times = [10, 12, 14, 11, 13]\n",
    "medication_b_recovery_times = [15, 17, 16, 14, 18]\n",
    "\n",
    "# Perform one-way ANOVA\n",
    "f_statistic, p_value = stats.f_oneway(medication_a_recovery_times, medication_b_recovery_times)\n",
    "\n",
    "alpha = 0.05  # Significance level\n",
    "\n",
    "print(\"F-statistic:\", f_statistic)\n",
    "print(\"P-value:\", p_value)\n",
    "\n",
    "if p_value < alpha:\n",
    "    print(\"There is a significant difference in the mean recovery times between the two medications.\")\n",
    "else:\n",
    "    print(\"There is no significant difference in the mean recovery times between the two medications.\")"
   ]
  },
  {
   "cell_type": "markdown",
   "id": "196b2c5b-f160-4362-97f1-a7cb4432fb26",
   "metadata": {},
   "source": [
    "# Ans 10"
   ]
  },
  {
   "cell_type": "code",
   "execution_count": 11,
   "id": "4098bba5-26f6-45f4-97df-b246f8790a36",
   "metadata": {},
   "outputs": [
    {
     "name": "stdout",
     "output_type": "stream",
     "text": [
      "75th percentile of feedback ratings: 8.75\n"
     ]
    }
   ],
   "source": [
    "import numpy as np\n",
    "\n",
    "feedback_ratings = [8, 9, 7, 6, 8, 10, 9, 8, 7, 8]\n",
    "\n",
    "percentile_75 = np.percentile(feedback_ratings, 75)\n",
    "\n",
    "print(\"75th percentile of feedback ratings:\", percentile_75)"
   ]
  },
  {
   "cell_type": "markdown",
   "id": "0a0d9cdc-fc25-403f-98ea-f4d7c12290be",
   "metadata": {},
   "source": [
    "# Ans 11"
   ]
  },
  {
   "cell_type": "code",
   "execution_count": 13,
   "id": "436cd999-8408-4c4c-bd5d-67d451996f18",
   "metadata": {},
   "outputs": [
    {
     "name": "stdout",
     "output_type": "stream",
     "text": [
      "T-statistic: 1.5126584522688367\n",
      "P-value: 0.19077595151110102\n",
      "The mean weight does not significantly differ from 10 grams.\n"
     ]
    }
   ],
   "source": [
    "from scipy import stats\n",
    "\n",
    "weights = [10.2, 9.8, 10.0, 10.5, 10.3, 10.1]\n",
    "\n",
    "# Perform one-sample t-test\n",
    "t_statistic, p_value = stats.ttest_1samp(weights, 10)\n",
    "\n",
    "alpha = 0.05  # Significance level\n",
    "\n",
    "print(\"T-statistic:\", t_statistic)\n",
    "print(\"P-value:\", p_value)\n",
    "\n",
    "if p_value < alpha:\n",
    "    print(\"The mean weight significantly differs from 10 grams.\")\n",
    "else:\n",
    "    print(\"The mean weight does not significantly differ from 10 grams.\")"
   ]
  },
  {
   "cell_type": "markdown",
   "id": "a35de3e1-ae48-4579-8b74-01a91e269dfa",
   "metadata": {},
   "source": [
    "# Ans 12"
   ]
  },
  {
   "cell_type": "code",
   "execution_count": 14,
   "id": "593b255c-452b-4bab-ae4e-9b91cfa59067",
   "metadata": {},
   "outputs": [
    {
     "name": "stdout",
     "output_type": "stream",
     "text": [
      "Chi-square statistic: 6.110658166925435\n",
      "P-value: 0.19103526314060293\n",
      "There is no significant difference in the click-through rates between the two designs.\n"
     ]
    }
   ],
   "source": [
    "import numpy as np\n",
    "from scipy.stats import chi2_contingency\n",
    "\n",
    "# Click data for each design\n",
    "design_a_clicks = np.array([100, 120, 110, 90, 95])\n",
    "design_b_clicks = np.array([80, 85, 90, 95, 100])\n",
    "\n",
    "# Create the contingency table\n",
    "contingency_table = np.array([design_a_clicks, design_b_clicks])\n",
    "\n",
    "# Perform chi-square test\n",
    "chi2_statistic, p_value, _, _ = chi2_contingency(contingency_table)\n",
    "\n",
    "alpha = 0.05  # Significance level\n",
    "\n",
    "print(\"Chi-square statistic:\", chi2_statistic)\n",
    "print(\"P-value:\", p_value)\n",
    "\n",
    "if p_value < alpha:\n",
    "    print(\"There is a significant difference in the click-through rates between the two designs.\")\n",
    "else:\n",
    "    print(\"There is no significant difference in the click-through rates between the two designs.\")"
   ]
  },
  {
   "cell_type": "markdown",
   "id": "30b2b894-5007-4e47-beb2-dcfd789a9c34",
   "metadata": {},
   "source": [
    "# Ans 13"
   ]
  },
  {
   "cell_type": "code",
   "execution_count": 15,
   "id": "b6dccd7b-8799-4b77-bb95-cc1850985a20",
   "metadata": {},
   "outputs": [
    {
     "name": "stdout",
     "output_type": "stream",
     "text": [
      "95% Confidence Interval: (7.043561120599888, 8.756438879400113)\n"
     ]
    }
   ],
   "source": [
    "import numpy as np\n",
    "from scipy import stats\n",
    "\n",
    "satisfaction_scores = [7, 9, 6, 8, 10, 7, 8, 9, 7, 8]\n",
    "\n",
    "confidence_level = 0.95\n",
    "\n",
    "sample_mean = np.mean(satisfaction_scores)\n",
    "sample_std = np.std(satisfaction_scores, ddof=1)\n",
    "sample_size = len(satisfaction_scores)\n",
    "\n",
    "# Calculate the margin of error\n",
    "margin_of_error = stats.t.ppf((1 + confidence_level) / 2, df=sample_size - 1) * sample_std / np.sqrt(sample_size)\n",
    "\n",
    "# Calculate the confidence interval\n",
    "confidence_interval = (sample_mean - margin_of_error, sample_mean + margin_of_error)\n",
    "\n",
    "print(\"95% Confidence Interval:\", confidence_interval)"
   ]
  },
  {
   "cell_type": "markdown",
   "id": "8dca0edc-2d3b-4152-8eea-4bab57b4683c",
   "metadata": {},
   "source": [
    "# Ans 14"
   ]
  },
  {
   "cell_type": "code",
   "execution_count": 16,
   "id": "eea24570-d89d-45ce-a041-dfd0fb50ffe6",
   "metadata": {},
   "outputs": [
    {
     "name": "stdout",
     "output_type": "stream",
     "text": [
      "Intercept: -2.899999999999972\n",
      "Slope: 0.49999999999999867\n"
     ]
    }
   ],
   "source": [
    "import statsmodels.api as sm\n",
    "import numpy as np\n",
    "\n",
    "temperature = [20, 22, 23, 19, 21]\n",
    "performance = [8, 7, 9, 6, 8]\n",
    "\n",
    "# Add a constant term to the independent variable\n",
    "X = sm.add_constant(temperature)\n",
    "\n",
    "# Fit the linear regression model\n",
    "model = sm.OLS(performance, X)\n",
    "results = model.fit()\n",
    "\n",
    "# Extract the coefficients and intercept\n",
    "intercept = results.params[0]\n",
    "slope = results.params[1]\n",
    "\n",
    "print(\"Intercept:\", intercept)\n",
    "print(\"Slope:\", slope)"
   ]
  },
  {
   "cell_type": "markdown",
   "id": "8b850bb5-0a29-4059-95ee-75d5e01f25c8",
   "metadata": {},
   "source": [
    "# Ans 15"
   ]
  },
  {
   "cell_type": "code",
   "execution_count": 17,
   "id": "d593d287-5762-4bb0-af6b-b45c9ead8bac",
   "metadata": {},
   "outputs": [
    {
     "name": "stdout",
     "output_type": "stream",
     "text": [
      "Mann-Whitney U statistic: 17.0\n",
      "P-value: 0.380836480306712\n",
      "There is no significant difference in the median preferences between the two groups.\n"
     ]
    }
   ],
   "source": [
    "from scipy.stats import mannwhitneyu\n",
    "\n",
    "group_a_preferences = [4, 3, 5, 2, 4]\n",
    "group_b_preferences = [3, 2, 4, 3, 3]\n",
    "\n",
    "# Perform Mann-Whitney U test\n",
    "statistic, p_value = mannwhitneyu(group_a_preferences, group_b_preferences)\n",
    "\n",
    "alpha = 0.05  # Significance level\n",
    "\n",
    "print(\"Mann-Whitney U statistic:\", statistic)\n",
    "print(\"P-value:\", p_value)\n",
    "\n",
    "if p_value < alpha:\n",
    "    print(\"There is a significant difference in the median preferences between the two groups.\")\n",
    "else:\n",
    "    print(\"There is no significant difference in the median preferences between the two groups.\")"
   ]
  },
  {
   "cell_type": "markdown",
   "id": "b45f9a38-49cd-4fd5-9800-a55b683f84fd",
   "metadata": {},
   "source": [
    "# Ans 16"
   ]
  },
  {
   "cell_type": "code",
   "execution_count": 18,
   "id": "b43bb9aa-931e-4bf7-8cc7-abc81544ef4b",
   "metadata": {},
   "outputs": [
    {
     "name": "stdout",
     "output_type": "stream",
     "text": [
      "Interquartile Range (IQR) of ages: 22.5\n"
     ]
    }
   ],
   "source": [
    "import numpy as np\n",
    "\n",
    "ages = [25, 30, 35, 40, 45, 50, 55, 60, 65, 70]\n",
    "\n",
    "q1 = np.percentile(ages, 25)\n",
    "q3 = np.percentile(ages, 75)\n",
    "\n",
    "iqr = q3 - q1\n",
    "\n",
    "print(\"Interquartile Range (IQR) of ages:\", iqr)"
   ]
  },
  {
   "cell_type": "markdown",
   "id": "4f483bc6-caaa-468a-a7ee-4b6f0f75ad16",
   "metadata": {},
   "source": [
    "# Ans 17"
   ]
  },
  {
   "cell_type": "code",
   "execution_count": 19,
   "id": "bb0fc57f-670d-40e0-820e-5c11b409103e",
   "metadata": {},
   "outputs": [
    {
     "name": "stdout",
     "output_type": "stream",
     "text": [
      "Kruskal-Wallis statistic: 9.696947935368053\n",
      "P-value: 0.007840333026249539\n",
      "There is a significant difference in the median accuracy scores between the algorithms.\n"
     ]
    }
   ],
   "source": [
    "from scipy.stats import kruskal\n",
    "\n",
    "algorithm_a_scores = [0.85, 0.80, 0.82, 0.87, 0.83]\n",
    "algorithm_b_scores = [0.78, 0.82, 0.84, 0.80, 0.79]\n",
    "algorithm_c_scores = [0.90, 0.88, 0.89, 0.86, 0.87]\n",
    "\n",
    "# Perform Kruskal-Wallis test\n",
    "statistic, p_value = kruskal(algorithm_a_scores, algorithm_b_scores, algorithm_c_scores)\n",
    "\n",
    "alpha = 0.05  # Significance level\n",
    "\n",
    "print(\"Kruskal-Wallis statistic:\", statistic)\n",
    "print(\"P-value:\", p_value)\n",
    "\n",
    "if p_value < alpha:\n",
    "    print(\"There is a significant difference in the median accuracy scores between the algorithms.\")\n",
    "else:\n",
    "    print(\"There is no significant difference in the median accuracy scores between the algorithms.\")"
   ]
  },
  {
   "cell_type": "markdown",
   "id": "49c5c2b3-fe04-4457-ac97-5865089d5d13",
   "metadata": {},
   "source": [
    "# Ans 18"
   ]
  },
  {
   "cell_type": "code",
   "execution_count": 20,
   "id": "92c7947f-5dec-4bac-a11a-c9a70e1742c3",
   "metadata": {},
   "outputs": [
    {
     "name": "stdout",
     "output_type": "stream",
     "text": [
      "Intercept: 136.3719512195122\n",
      "Slope: -3.5060975609756113\n"
     ]
    }
   ],
   "source": [
    "import statsmodels.api as sm\n",
    "import numpy as np\n",
    "\n",
    "price = [10, 15, 12, 8, 14]\n",
    "sales = [100, 80, 90, 110, 95]\n",
    "\n",
    "# Add a constant term to the independent variable\n",
    "X = sm.add_constant(price)\n",
    "\n",
    "# Fit the linear regression model\n",
    "model = sm.OLS(sales, X)\n",
    "results = model.fit()\n",
    "\n",
    "# Extract the coefficients and intercept\n",
    "intercept = results.params[0]\n",
    "slope = results.params[1]\n",
    "\n",
    "print(\"Intercept:\", intercept)\n",
    "print(\"Slope:\", slope)"
   ]
  },
  {
   "cell_type": "markdown",
   "id": "687373f0-2faa-4da2-b2b4-3ad2a2199898",
   "metadata": {},
   "source": [
    "# Ans 19"
   ]
  },
  {
   "cell_type": "code",
   "execution_count": 21,
   "id": "23e07bc6-cd09-4762-b0b5-b00fad65c3c4",
   "metadata": {},
   "outputs": [
    {
     "name": "stdout",
     "output_type": "stream",
     "text": [
      "Standard Error of the Mean: 0.30550504633038933\n"
     ]
    }
   ],
   "source": [
    "import numpy as np\n",
    "\n",
    "satisfaction_scores = [7, 8, 9, 6, 8, 7, 9, 7, 8, 7]\n",
    "\n",
    "standard_error = np.std(satisfaction_scores, ddof=1) / np.sqrt(len(satisfaction_scores))\n",
    "\n",
    "print(\"Standard Error of the Mean:\", standard_error)"
   ]
  },
  {
   "cell_type": "markdown",
   "id": "5329ec44-da2a-4421-b350-9ede869746b0",
   "metadata": {},
   "source": [
    "# Ans 20"
   ]
  },
  {
   "cell_type": "code",
   "execution_count": 22,
   "id": "24e2011e-70b3-4e16-8505-884b9ddbdeb5",
   "metadata": {},
   "outputs": [
    {
     "name": "stdout",
     "output_type": "stream",
     "text": [
      "Intercept: 12.201219512195118\n",
      "Slope: 1.1524390243902434\n"
     ]
    }
   ],
   "source": [
    "import statsmodels.api as sm\n",
    "import numpy as np\n",
    "\n",
    "advertising_expenditure = [10, 15, 12, 8, 14]\n",
    "sales = [25, 30, 28, 20, 26]\n",
    "\n",
    "# Add a constant term to the independent variable\n",
    "X = sm.add_constant(advertising_expenditure)\n",
    "\n",
    "# Fit the multiple regression model\n",
    "model = sm.OLS(sales, X)\n",
    "results = model.fit()\n",
    "\n",
    "# Extract the coefficients and intercept\n",
    "intercept = results.params[0]\n",
    "slope = results.params[1]\n",
    "\n",
    "print(\"Intercept:\", intercept)\n",
    "print(\"Slope:\", slope)"
   ]
  },
  {
   "cell_type": "code",
   "execution_count": null,
   "id": "54aca3f0-ceb9-4645-b78b-b87b38fde55b",
   "metadata": {},
   "outputs": [],
   "source": []
  }
 ],
 "metadata": {
  "kernelspec": {
   "display_name": "Python 3 (ipykernel)",
   "language": "python",
   "name": "python3"
  },
  "language_info": {
   "codemirror_mode": {
    "name": "ipython",
    "version": 3
   },
   "file_extension": ".py",
   "mimetype": "text/x-python",
   "name": "python",
   "nbconvert_exporter": "python",
   "pygments_lexer": "ipython3",
   "version": "3.10.8"
  }
 },
 "nbformat": 4,
 "nbformat_minor": 5
}
